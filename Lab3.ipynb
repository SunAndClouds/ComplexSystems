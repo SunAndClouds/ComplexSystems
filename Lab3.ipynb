{
 "cells": [
  {
   "cell_type": "code",
   "execution_count": 1,
   "id": "4a84b5db-9105-4ee5-b25b-34475c2c29da",
   "metadata": {},
   "outputs": [
    {
     "data": {
      "text/plain": [
       "<Figure size 1400x800 with 0 Axes>"
      ]
     },
     "metadata": {},
     "output_type": "display_data"
    }
   ],
   "source": [
    "import numpy as np\n",
    "import matplotlib.pyplot as plt\n",
    "from matplotlib.animation import *\n",
    "from tqdm import tqdm\n",
    "from numba import njit\n",
    "\n",
    "def add_periodic_boundaries(arr):\n",
    "    # takes an (n-2, m-2) array and returns (n, m) array\n",
    "    rows, cols = arr.shape\n",
    "    output = np.zeros((rows+2, cols+2), dtype=arr.dtype)\n",
    "\n",
    "    # Fill the output array with the periodic boundaries\n",
    "    output[1:-1, 1:-1] = arr # center\n",
    "    output[0:1, 1:-1] = arr[-1:,:] # first row\n",
    "    output[-1:, 1:-1] = arr[0:1,:] # last row\n",
    "    output[1:-1, 0:1] = arr[:,-1:] # first column\n",
    "    output[1:-1, -1:] = arr[:,0:1] # last column\n",
    "\n",
    "    return output\n",
    "\n",
    "plt.rcParams[\"figure.figsize\"] = [14, 8]\n",
    "plt.rcParams[\"figure.dpi\"] = 100\n",
    "plt.set_cmap(\"binary_r\")"
   ]
  },
  {
   "cell_type": "code",
   "execution_count": null,
   "id": "88e5d27a-989a-4be1-b398-7059f5a2ac2a",
   "metadata": {},
   "outputs": [],
   "source": []
  },
  {
   "cell_type": "code",
   "execution_count": null,
   "id": "78c5991d-285c-40f3-8ec7-c9c75f0a9bb1",
   "metadata": {},
   "outputs": [],
   "source": []
  },
  {
   "cell_type": "code",
   "execution_count": null,
   "id": "f8bcf2d7-3aad-4721-9f47-808f05f3efae",
   "metadata": {},
   "outputs": [],
   "source": []
  }
 ],
 "metadata": {
  "kernelspec": {
   "display_name": "Python 3",
   "language": "python",
   "name": "python3"
  },
  "language_info": {
   "codemirror_mode": {
    "name": "ipython",
    "version": 3
   },
   "file_extension": ".py",
   "mimetype": "text/x-python",
   "name": "python",
   "nbconvert_exporter": "python",
   "pygments_lexer": "ipython3",
   "version": "3.8.5"
  }
 },
 "nbformat": 4,
 "nbformat_minor": 5
}
