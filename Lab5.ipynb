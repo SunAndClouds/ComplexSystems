{
 "cells": [
  {
   "cell_type": "code",
   "execution_count": 1,
   "id": "e14dbc2a-f6e6-4fc7-ac91-0f5945d8fed7",
   "metadata": {},
   "outputs": [
    {
     "data": {
      "text/plain": [
       "<Figure size 1400x800 with 0 Axes>"
      ]
     },
     "metadata": {},
     "output_type": "display_data"
    }
   ],
   "source": [
    "import numpy as np\n",
    "import matplotlib.pyplot as plt\n",
    "from matplotlib.animation import *\n",
    "from tqdm import tqdm\n",
    "from numba import njit\n",
    "import random\n",
    "\n",
    "plt.rcParams[\"figure.figsize\"] = [14, 8]\n",
    "plt.rcParams[\"figure.dpi\"] = 100\n",
    "plt.set_cmap(\"binary_r\")"
   ]
  },
  {
   "cell_type": "markdown",
   "id": "b1e7e081-7101-4c7e-baca-9d6da525e2f6",
   "metadata": {},
   "source": [
    "# Genetic algorithm\n",
    "The overall structure of the GA is gives as follows:\n",
    "1. Start with N random initialization of the action space, expressed as N 1x54 arrays where each entry have some value \\{0,1,2,3\\} that correspond to the possible actions the agent can take.\n",
    "\n",
    "2. Compute the fitness of all the agents by \n",
    "\n",
    "3. Normalize the fitness to gain the probability density function. Then sample a subset of the agents to obtain a new pool.\n",
    "\n",
    "4. Pick two chromosomes and randomly pick some genes. Switch place between the selected genes of the two chormosomes. Repeat this step for all the chromosomes.\n",
    "\n",
    "5. Now, assign some non-zero probability of a gene switching its value. \n",
    "\n",
    "6. This set of chromosomes should be a better version than the intial parent pool. We can repeat this step from step 2 and iterate until the agents have some satisfactory fitness."
   ]
  },
  {
   "cell_type": "code",
   "execution_count": null,
   "id": "c9cff37c-c2e3-4ef6-a8af-f596dfb4728f",
   "metadata": {},
   "outputs": [],
   "source": []
  },
  {
   "cell_type": "code",
   "execution_count": null,
   "id": "d8854480-0f36-4c9d-bfde-b273f2d1d948",
   "metadata": {},
   "outputs": [],
   "source": []
  },
  {
   "cell_type": "code",
   "execution_count": null,
   "id": "d9067c17-6645-44e4-a017-442431f84d62",
   "metadata": {},
   "outputs": [],
   "source": []
  },
  {
   "cell_type": "code",
   "execution_count": null,
   "id": "38225a40-fb31-4091-a094-9ab994010815",
   "metadata": {},
   "outputs": [],
   "source": []
  },
  {
   "cell_type": "code",
   "execution_count": null,
   "id": "a5108fe2-6bc5-410f-9558-ecce3bc631a7",
   "metadata": {},
   "outputs": [],
   "source": []
  },
  {
   "cell_type": "code",
   "execution_count": null,
   "id": "07f2f2e0-53d4-4750-a624-e6075ce42a5c",
   "metadata": {},
   "outputs": [],
   "source": []
  }
 ],
 "metadata": {
  "kernelspec": {
   "display_name": "Python 3",
   "language": "python",
   "name": "python3"
  },
  "language_info": {
   "codemirror_mode": {
    "name": "ipython",
    "version": 3
   },
   "file_extension": ".py",
   "mimetype": "text/x-python",
   "name": "python",
   "nbconvert_exporter": "python",
   "pygments_lexer": "ipython3",
   "version": "3.8.5"
  }
 },
 "nbformat": 4,
 "nbformat_minor": 5
}
