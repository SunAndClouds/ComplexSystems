{
 "cells": [
  {
   "cell_type": "code",
   "execution_count": 1,
   "id": "1f541bcd-4be4-440c-8bf5-a825915719b4",
   "metadata": {},
   "outputs": [
    {
     "data": {
      "text/plain": [
       "<Figure size 1400x800 with 0 Axes>"
      ]
     },
     "metadata": {},
     "output_type": "display_data"
    }
   ],
   "source": [
    "import numpy as np\n",
    "import matplotlib.pyplot as plt\n",
    "from matplotlib.animation import *\n",
    "from tqdm import tqdm\n",
    "from numba import njit\n",
    "\n",
    "def add_periodic_boundaries(arr):\n",
    "    # takes an (n-2, m-2) array and returns (n, m) array\n",
    "    rows, cols = arr.shape\n",
    "    output = np.zeros((rows+2, cols+2), dtype=arr.dtype)\n",
    "\n",
    "    # Fill the output array with the periodic boundaries\n",
    "    output[1:-1, 1:-1] = arr # center\n",
    "    output[0:1, 1:-1] = arr[-1:,:] # first row\n",
    "    output[-1:, 1:-1] = arr[0:1,:] # last row\n",
    "    output[1:-1, 0:1] = arr[:,-1:] # first column\n",
    "    output[1:-1, -1:] = arr[:,0:1] # last column\n",
    "\n",
    "    return output\n",
    "\n",
    "plt.rcParams[\"figure.figsize\"] = [14, 8]\n",
    "plt.rcParams[\"figure.dpi\"] = 100\n",
    "plt.set_cmap(\"binary_r\")"
   ]
  },
  {
   "cell_type": "markdown",
   "id": "01b6135c-3a71-4ccb-b9f8-fbce821a9c91",
   "metadata": {
    "tags": []
   },
   "source": [
    "# Random initialization"
   ]
  },
  {
   "cell_type": "code",
   "execution_count": 2,
   "id": "6b4f394c-ec4c-4142-9d06-c7ef353a96a3",
   "metadata": {},
   "outputs": [
    {
     "name": "stdout",
     "output_type": "stream",
     "text": [
      "At transient time t=39, the system reached a periodic state with periodicity=3.\n",
      "At transient time t=39, the system reached a periodic state with periodicity=3.\n"
     ]
    }
   ],
   "source": [
    "np.random.seed(42)\n",
    "\n",
    "n, m = 34, 43 # dimension of the grid\n",
    "\n",
    "# Evolution rule: excited -> refractor -> rest (condition) -> excited\n",
    "rest = 0\n",
    "excited_spectrum = [1] # may add arbitrary number of integers in ascending order\n",
    "refractor = excited_spectrum[-1] + 1\n",
    "\n",
    "@njit\n",
    "def excite(s_prev, \n",
    "           rest=rest, \n",
    "           excited=excited_spectrum[0]): \n",
    "    # rest -> excited according to von Neumann neighborhood condition\n",
    "    # by default the ground state is excited\n",
    "    \n",
    "    s_next = np.infty * np.ones_like(s_prev)\n",
    "    n, m = s_prev.shape\n",
    "    for i in range(1, n-1):\n",
    "        for j in range(1, m-1):\n",
    "            if s_prev[i, j] == rest:\n",
    "                # Stores the values of Von Neumann neighborhood around coordinate (i,j). \n",
    "                # This occurs for the previous state\n",
    "                neighborhood = np.array([\n",
    "                    s_prev[i-1, j], s_prev[i, j-1], s_prev[i, j+1], s_prev[i+1, j]\n",
    "                ])\n",
    "                \n",
    "                # Checks if there is at least one excited state in the neighbor. \n",
    "                if np.sum(neighborhood == excited) >= 1:\n",
    "                    s_next[i, j] = excited\n",
    "                else:\n",
    "                    s_next[i, j] = rest\n",
    "            else:\n",
    "                s_next[i, j] = s_prev[i, j]\n",
    "    return s_next\n",
    "\n",
    "# The GHCA map for some configuration s_initial\n",
    "# T is the maximum number of iterations, the function will terminate early if the systems dies or starts to oscillate.\n",
    "def time_evolution(s_initial, T=1, message=True): \n",
    "    \"\"\"\n",
    "    Takes some initial configuration (s_initial) and returns the time evolution \n",
    "    of the system (results) until some periodic oscillation occurs.\n",
    "    \"\"\"\n",
    "    results = np.zeros([T, *s_initial.shape])\n",
    "    prev_states = []\n",
    "\n",
    "    # Loop for time evolution of the system\n",
    "    for t in range(T):\n",
    "        results[t] = s_initial\n",
    "        prev_states.append(s_initial)\n",
    "        \n",
    "        # excitation \n",
    "        s_next = excite(s_initial)\n",
    "        \n",
    "        # unconditional transition\n",
    "        # excluding the last element since the transition must correspond to last excited -> refractor\n",
    "        for prev_state, next_state in zip(\n",
    "            excited_spectrum[:-1], \n",
    "            np.roll(excited_spectrum, shift=-1)[:-1]):\n",
    "            \n",
    "            s_next[s_initial == prev_state] = next_state # updating the excited states\n",
    "        \n",
    "        s_next[s_initial == excited_spectrum[-1]] = refractor # last excited state -> refractor\n",
    "        s_next[s_initial == refractor] = rest # refractor -> rest\n",
    "        s_initial = s_next # update s_initial to be the evolved state\n",
    "        \n",
    "        # Check for periodicity\n",
    "        for i, prev_state in enumerate(prev_states):\n",
    "            if np.allclose(s_next, prev_state):\n",
    "                periodicity = t - i + 1\n",
    "                if message:\n",
    "                    print(f\"At transient time t={t+1}, the system reached a periodic state with {periodicity=}.\")\n",
    "                break\n",
    "        else:\n",
    "            continue\n",
    "\n",
    "        break\n",
    "\n",
    "    return results[:(t+1)].astype(np.float64) # (transient time, n+1, m+1)\n",
    "\n",
    "                \n",
    "# initial state, the boundaries are padded with infinities\n",
    "s1 = np.infty * np.ones([n+2,m+2]) # add 2 because the extra correspond to infinity boundary\n",
    "# Adding periodic boundary before the infinity\n",
    "s1[1:-1,1:-1] = add_periodic_boundaries(\n",
    "    np.random.choice([rest] + excited_spectrum + [refractor], \n",
    "                     size=[n-2, m-2], # subtracting 2 because of periodic boundaries is adding 2\n",
    "                     p=(refractor+1) * [1/(refractor+1)] # default to be uniform distributed\n",
    "    ) \n",
    ")\n",
    "\n",
    "# creating a similar configuration\n",
    "s2 = s1.copy() \n",
    "s2[n//2, m//2] = (s1[n//2, m//2] + 1) % 2 # shifts the values for one cell\n",
    "\n",
    "results1 = time_evolution(s1, 100)\n",
    "results2 = time_evolution(s2, 100)"
   ]
  },
  {
   "cell_type": "markdown",
   "id": "b33a3c51-f603-4ba0-a331-2a5a419403d2",
   "metadata": {
    "tags": []
   },
   "source": [
    "# Custom initialization"
   ]
  },
  {
   "cell_type": "code",
   "execution_count": 3,
   "id": "1e464e2a-df20-4a44-ba02-afcf36bf2409",
   "metadata": {
    "tags": []
   },
   "outputs": [],
   "source": [
    "def generate_matrices():\n",
    "    matrices = []\n",
    "\n",
    "    for a in range(3):\n",
    "        for b in range(3):\n",
    "            for c in range(3):\n",
    "                for d in range(3):\n",
    "                    matrix = np.array([[a, b], [c, d]])\n",
    "                    matrices.append(matrix)\n",
    "\n",
    "    return matrices\n",
    "\n",
    "def filter_matrices(matrices, a, b, c):\n",
    "    filtered_matrices = []\n",
    "\n",
    "    for matrix in matrices:\n",
    "        # Check horizontal and vertical neighbors\n",
    "        neighbors = (matrix[0, 0] == a and matrix[0, 1] == a) or \\\n",
    "                    (matrix[1, 0] == a and matrix[1, 1] == a) or \\\n",
    "                    (matrix[0, 0] == a and matrix[1, 0] == a) or \\\n",
    "                    (matrix[0, 1] == a and matrix[1, 1] == a)\n",
    "\n",
    "        # Check if the matrix contains b and c\n",
    "        contains_b_and_c = (b in matrix.flatten()) and (c in matrix.flatten())\n",
    "\n",
    "        if neighbors and contains_b_and_c:\n",
    "            filtered_matrices.append(matrix)\n",
    "\n",
    "    return filtered_matrices\n",
    "\n",
    "matrices = generate_matrices()\n",
    "matrices0012 = filter_matrices(matrices, 0, 1, 2)\n",
    "matrices0112 = filter_matrices(matrices, 1, 0, 2)\n",
    "matrices0122 = filter_matrices(matrices, 2, 1, 0)"
   ]
  },
  {
   "cell_type": "code",
   "execution_count": 4,
   "id": "1aae1543-272b-4998-83dd-d69cf5925825",
   "metadata": {
    "jupyter": {
     "source_hidden": true
    },
    "tags": []
   },
   "outputs": [
    {
     "name": "stderr",
     "output_type": "stream",
     "text": [
      " 13%|█▎        | 13/100 [00:00<00:02, 39.31it/s]"
     ]
    },
    {
     "name": "stdout",
     "output_type": "stream",
     "text": [
      "At transient time t=14, the system reached a periodic state with periodicity=3.\n"
     ]
    },
    {
     "name": "stderr",
     "output_type": "stream",
     "text": [
      "\n"
     ]
    }
   ],
   "source": [
    "initial_config = np.concatenate(matrices0012 + matrices0112 + matrices0122, 0) # definately works\n",
    "initial_config = initial_config.reshape(12, 8)\n",
    "n, m = initial_config.shape\n",
    "\n",
    "s0 = np.infty * np.ones([n+2,m+2])\n",
    "s0[1:-1,1:-1] = initial_config \n",
    "\n",
    "# Evolution rule: excited -> refractor -> rest (condition) -> excited\n",
    "rest = 0\n",
    "excited_spectrum = [1]\n",
    "refractor = excited_spectrum[-1] + 1\n",
    "\n",
    "T = 100 # time steps\n",
    "results = np.infty * np.ones([T, n+2, m+2])\n",
    "prev_states = []\n",
    "\n",
    "@njit\n",
    "def excite(s0, \n",
    "           rest=rest, \n",
    "           excited=excited_spectrum[0]): \n",
    "           # rest -> excited according to some condition\n",
    "           # by default the ground state is excited\n",
    "    \n",
    "    s1 = np.infty * np.ones_like(s0)\n",
    "    for i in range(1, n+1): # n + 2 = include infinity, n + 1 = include periodic boundary\n",
    "        for j in range(1, m+1):\n",
    "            if s0[i, j] == rest:\n",
    "                # Stores the values of Von Neumann neighborhood around coordinate (i,j). \n",
    "                # This occurs for the previous state\n",
    "                neighborhood = np.array([\n",
    "                    s0[i-1, j], s0[i, j-1], s0[i, j+1], s0[i+1, j]\n",
    "                ])\n",
    "                \n",
    "                # Checks if there is at least one excited state in the neighbor. \n",
    "                if np.sum(neighborhood == excited) >= 1:\n",
    "                    s1[i, j] = excited\n",
    "                else:\n",
    "                    s1[i, j] = rest\n",
    "            else:\n",
    "                s1[i, j] = s0[i, j]\n",
    "    return s1\n",
    "\n",
    "\n",
    "### 1.2 and 3\n",
    "# Loop for time evolution of the system\n",
    "for t in tqdm(range(T)):\n",
    "    results[t] = s0\n",
    "    prev_states.append(s0)\n",
    "    \n",
    "    # excitation with some condition\n",
    "    s1 = excite(s0)\n",
    "    \n",
    "    # unconditional transition\n",
    "    # excluding the last element since the transition must correspond to last excited -> refractor\n",
    "    for prev_state, next_state in zip(\n",
    "        excited_spectrum[:-1], \n",
    "        np.roll(excited_spectrum, shift=-1)[:-1]):\n",
    "        \n",
    "        s1[s0 == prev_state] = next_state # updating the excited states\n",
    "    \n",
    "    s1[s0 == excited_spectrum[-1]] = refractor # last excited state -> refractor\n",
    "    s1[s0 == refractor] = rest # refractor -> rest\n",
    "    s0 = s1 # s0 is now the evolved state\n",
    "    \n",
    "    # Check for periodicity\n",
    "    for i, prev_state in enumerate(prev_states):\n",
    "        if np.allclose(s1, prev_state):\n",
    "            periodicity = t - i + 1\n",
    "            print(f\"At transient time t={t+1}, the system reached a periodic state with {periodicity=}.\")\n",
    "            break\n",
    "    else:\n",
    "        continue\n",
    "\n",
    "    break\n",
    "    \n",
    "results = results[:(t+1)]"
   ]
  },
  {
   "cell_type": "markdown",
   "id": "e1ab9680-da5d-4fed-b537-20e4bb8545a8",
   "metadata": {
    "tags": []
   },
   "source": [
    "# Visualizations"
   ]
  },
  {
   "cell_type": "code",
   "execution_count": 5,
   "id": "fd78824a-3c30-40b7-8a22-611833d9bd1e",
   "metadata": {},
   "outputs": [
    {
     "data": {
      "image/png": "[encoded data removed]",
      "text/plain": [
       "<Figure size 1400x800 with 2 Axes>"
      ]
     },
     "metadata": {
      "needs_background": "light"
     },
     "output_type": "display_data"
    }
   ],
   "source": [
    "# Simple visualization of the last frame before the oscillation starts to occur.\n",
    "# The results is cut since the bounds are padded with infinity.\n",
    "plt.imshow(results1[-1][1:-1,1:-1] - results2[-1][1:-1,1:-1], vmin=0, vmax=refractor)  \n",
    "plt.colorbar(ticks=[rest] + excited_spectrum + [refractor])\n",
    "plt.axis(\"off\")\n",
    "plt.show()"
   ]
  },
  {
   "cell_type": "markdown",
   "id": "b4ca0887-0366-4ffa-9435-362dfc9f414f",
   "metadata": {},
   "source": [
    "Creating a GIF that visualizes the time evolution of the GHCA for some random uniform configuration.\n",
    "Result1 and Result2 differs by only one cell at time zero.\n",
    "The third plot shows the difference between the systems\n",
    "if it ends up completely black, then we have an attracting configuration. \n",
    "However, it looks like there is a non-trivial oscillation pattern in the difference indicating that we have a neutral configuration.\n",
    " "
   ]
  },
  {
   "cell_type": "code",
   "execution_count": 6,
   "id": "12b002bc-5ef8-4419-ad57-5310398f423e",
   "metadata": {},
   "outputs": [
    {
     "data": {
      "image/png": "[encoded data removed]",
      "text/plain": [
       "<Figure size 1500x500 with 4 Axes>"
      ]
     },
     "metadata": {
      "needs_background": "light"
     },
     "output_type": "display_data"
    }
   ],
   "source": [
    "def update_plot(i, ims, results1, results2, diff_results, fig):\n",
    "    ims[0].set_array(results1[i][1:-1,1:-1])\n",
    "    ims[1].set_array(results2[i][1:-1,1:-1])\n",
    "    ims[2].set_array(diff_results[i][1:-1,1:-1])\n",
    "    fig.suptitle(f'Transient time {i+1}:{len(results1)}', fontsize=16)\n",
    "    return ims\n",
    "\n",
    "def create_side_by_side_gif(results1, results2=None, filename='GHCA.gif', duration=100):\n",
    "    if results2 is None:\n",
    "        results2 = np.zeros_like(results1)\n",
    "\n",
    "    T = results1.shape[0]\n",
    "    diff_results = np.abs(results1[:T,1:-1,1:-1] - results2[:T,1:-1,1:-1])\n",
    "\n",
    "    fig, axes = plt.subplots(1, 3, figsize=(15, 5))\n",
    "    \n",
    "    ims = [axes[0].imshow(results1[-1], animated=True, vmin=0, vmax=refractor),\n",
    "           axes[1].imshow(results2[-1], animated=True, vmin=0, vmax=refractor),\n",
    "           axes[2].imshow(diff_results[-1], animated=True)]\n",
    "\n",
    "    for ax, title in zip(axes, ['Results 1', 'Results 2', 'Difference']):\n",
    "        ax.set_title(title)\n",
    "        ax.axis(\"off\")\n",
    "\n",
    "    # Add a horizontal colorbar at the bottom\n",
    "    cbar_ax = fig.add_axes([0.35, 0.08, 0.3, 0.03])\n",
    "    cbar = fig.colorbar(ims[0], cax=cbar_ax, ticks=[rest] + excited_spectrum + [refractor], orientation='horizontal')\n",
    "    cbar.set_label(\"States\")\n",
    "\n",
    "    ani = FuncAnimation(fig, update_plot, frames=range(T), \n",
    "                        fargs=(ims, results1, results2, diff_results, fig), \n",
    "                        interval=duration, blit=True)\n",
    "    ani.save(filename, writer='pillow', fps=1)\n",
    "\n",
    "\n",
    "create_side_by_side_gif(results1, results2, duration=100)"
   ]
  },
  {
   "cell_type": "markdown",
   "id": "b43fa8a8-f345-41a6-b590-a2ec794a9b5b",
   "metadata": {
    "tags": []
   },
   "source": [
    "# Direct proof of additivity of GHCA\n",
    "The code begins by producing the set of 3 by 3 \"plus sign\"-configurations. This can be seen as a subset of 3 by 3 matrices with 0, 1, 2 and the corners have the value infinity. The reason is to have the same values in the corners when two configurations are added.\n",
    "Additionally I use a special modulus function that does not touch the infinity at the corners.\n",
    "If the code runs succesfully, then it proves that any 3 by 3 \"plus sign\"-configuration satisfies the additivity property of GHCA for rest state 0, excited state 1, and refractor state 2."
   ]
  },
  {
   "cell_type": "code",
   "execution_count": 8,
   "id": "c9d01421-3622-41f8-9699-f6ddc1f306d0",
   "metadata": {},
   "outputs": [
    {
     "name": "stderr",
     "output_type": "stream",
     "text": [
      "100%|██████████| 1024/1024 [04:35<00:00,  3.72it/s]"
     ]
    },
    {
     "name": "stdout",
     "output_type": "stream",
     "text": [
      "Conjecture proved\n"
     ]
    },
    {
     "name": "stderr",
     "output_type": "stream",
     "text": [
      "\n"
     ]
    }
   ],
   "source": [
    "# The set of all \"plus sign\"-configuration with fixed corners (compatible with von Neumann neighborhood)\n",
    "def generate_matrices(corner_value=-1):\n",
    "    num_matrices = 4 ** 5\n",
    "    matrices = np.ones((num_matrices, 3, 3))\n",
    "\n",
    "    counter = 0\n",
    "    for b in range(4):\n",
    "        for d in range(4):\n",
    "            for e in range(4):\n",
    "                for f in range(4):\n",
    "                    for h in range(4):\n",
    "                        matrix = np.array([[corner_value, b, corner_value], \n",
    "                                           [d, e, f], \n",
    "                                           [corner_value, h, corner_value]])\n",
    "                        matrices[counter] = matrix\n",
    "                        counter += 1\n",
    "\n",
    "    return matrices\n",
    "\n",
    "# Function that takes some matrix d1 and d2 and evolves them by one step according to GHCA.\n",
    "# It then checks the additivity property of the map.\n",
    "def check_additivity(d1, d2, message=False):\n",
    "    \n",
    "    RHS = mod(\n",
    "        time_evolution(d1, 1, message)[0] + time_evolution(d2, 1, message)[0]\n",
    "    )\n",
    "    \n",
    "    LHS = time_evolution( \n",
    "        mod(d1 + d2), 1, message\n",
    "    )[0]\n",
    "    \n",
    "    return np.allclose(RHS, LHS)\n",
    "\n",
    "# special mod function that only performs the modulus for finite values\n",
    "def mod(x, value=2): \n",
    "    x[x != np.infty] %= value\n",
    "    return x\n",
    "\n",
    "\n",
    "# The set of all possible \"plus sign\"-configurations\n",
    "matrices = generate_matrices() \n",
    "matrices[matrices == -1] = np.infty \n",
    "N = len(matrices)\n",
    "\n",
    "for i in tqdm(range(N)):\n",
    "    for j in range(i, N):\n",
    "        d1 = matrices[i]\n",
    "        d2 = matrices[j]\n",
    "        \n",
    "        if not check_additivity(d1, d2):\n",
    "            print(\"Conjecture disproved\")\n",
    "            break\n",
    "\n",
    "else: # message is printed if and only if the loop is completed without early break\n",
    "    print(\"Conjecture proved\")"
   ]
  },
  {
   "cell_type": "code",
   "execution_count": null,
   "id": "8f6b80c5-1c88-4249-adb7-b46dce0be8ba",
   "metadata": {},
   "outputs": [],
   "source": []
  }
 ],
 "metadata": {
  "kernelspec": {
   "display_name": "Python 3",
   "language": "python",
   "name": "python3"
  },
  "language_info": {
   "codemirror_mode": {
    "name": "ipython",
    "version": 3
   },
   "file_extension": ".py",
   "mimetype": "text/x-python",
   "name": "python",
   "nbconvert_exporter": "python",
   "pygments_lexer": "ipython3",
   "version": "3.8.5"
  }
 },
 "nbformat": 4,
 "nbformat_minor": 5
}
