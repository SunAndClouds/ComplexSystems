{
 "cells": [
  {
   "cell_type": "code",
   "execution_count": 4,
   "id": "6e3650ed-7e8f-446a-8489-ea7590768e0a",
   "metadata": {},
   "outputs": [
    {
     "data": {
      "text/plain": [
       "<Figure size 1400x800 with 0 Axes>"
      ]
     },
     "metadata": {},
     "output_type": "display_data"
    }
   ],
   "source": [
    "import numpy as np\n",
    "import matplotlib.pyplot as plt\n",
    "from matplotlib.animation import *\n",
    "from tqdm import tqdm\n",
    "from numba import njit\n",
    "import random\n",
    "\n",
    "plt.rcParams[\"figure.figsize\"] = [14, 8]\n",
    "plt.rcParams[\"figure.dpi\"] = 100\n",
    "plt.set_cmap(\"binary_r\")"
   ]
  },
  {
   "cell_type": "markdown",
   "id": "1e3c1ce0-cae0-4045-8d2d-3617e538c643",
   "metadata": {},
   "source": [
    "# Boids model\n",
    "Consider a flock of birds. If they are located in a too dense area, then they want to repell each other. \n",
    "At some intermediate distance, for example in a distance where they can see. each other, then birds will get attracted to each other and move in the same direction. In the same time, the flock will also try to cluster to the center of mass. The behvaior can be summarized as:\n",
    "1. Separation\n",
    "2. Alignment \n",
    "3. Cohesion"
   ]
  },
  {
   "cell_type": "code",
   "execution_count": 99,
   "id": "f76580b9-db00-4837-9f0c-ed72c322d54e",
   "metadata": {},
   "outputs": [],
   "source": [
    "np.random.seed(42)\n",
    "\n",
    "r1, r2, r3 = 2, 4, 5\n",
    "N = 10 # Number of particles\n",
    "x1, x2 = -5, 5\n",
    "v1, v2 = -1, 1\n",
    "\n",
    "xy = np.random.uniform(x1, x2, [N, 2]) \n",
    "v  = np.random.uniform(v1, v2, [N, 2])\n",
    "\n",
    "def get_euclidian_distance(positions): # (N, 2) -> (N, N, 2) -> (N, N)\n",
    "    separation = positions[:,None] - positions[None]\n",
    "    pair_wise_distance = np.linalg.norm(separation, axis=-1, ord=2)\n",
    "    return pair_wise_distance # Adjacency matrix for an weighted undirected graph where each edge correspond to a distance\n",
    "\n",
    "def repulsion_vectors(xy, distance, repelling_indices):\n",
    "    separation = xy[:, None] - xy[None]\n",
    "    repelling_separation = separation * repelling_indices[..., None]\n",
    "    R = -np.sum(repelling_separation, axis=1)\n",
    "    return R\n",
    "\n",
    "def alignment_vectors(v, distance, alignment_indices):\n",
    "    alignment_neighbors = v[:, None] * alignment_indices[..., None]\n",
    "    avg_neighbor_velocity = np.sum(alignment_neighbors, axis=1) \n",
    "    A = avg_neighbor_velocity - v\n",
    "    return A\n",
    "\n",
    "def cohesion_vectors(xy, distance, attracting_indices):\n",
    "    attracting_neighbors = xy[:, None] * attracting_indices[..., None]\n",
    "    avg_neighbor_position = np.sum(attracting_neighbors, axis=1) / (np.sum(attracting_indices, axis=1)[:, None] + 1e-9)\n",
    "    C = avg_neighbor_position - xy\n",
    "    return C\n",
    "\n",
    "distance = get_euclidian_distance(xy)\n",
    "repelling_indices  = (distance < r1) * (distance != 0)\n",
    "alignment_indices  = (distance > r1) * (distance < r2)\n",
    "attracting_indices = (distance > r2) * (distance < r3)\n",
    "\n",
    "R = repulsion_vectors(xy, distance, repelling_indices)\n",
    "A = alignment_vectors(v, distance, alignment_indices)\n",
    "C = cohesion_vectors(xy, distance, attracting_indices)"
   ]
  },
  {
   "cell_type": "code",
   "execution_count": 97,
   "id": "2bdadef4-da36-4cf4-98ac-579fa5d72b90",
   "metadata": {},
   "outputs": [
    {
     "data": {
      "text/plain": [
       "array([[-0.        , -0.        ],\n",
       "       [-1.3087893 ,  1.09414094],\n",
       "       [ 0.25806327,  0.2740999 ],\n",
       "       [-0.37499118,  1.03733706],\n",
       "       [ 1.3087893 , -1.09414094],\n",
       "       [ 0.37499118, -1.03733706],\n",
       "       [-0.        , -0.        ],\n",
       "       [-0.25806327, -0.2740999 ],\n",
       "       [-0.        , -0.        ],\n",
       "       [-0.        , -0.        ]])"
      ]
     },
     "execution_count": 97,
     "metadata": {},
     "output_type": "execute_result"
    }
   ],
   "source": [
    "# Define weight factors for each rule\n",
    "repelling_weight = 1.0\n",
    "alignment_weight = 1.0\n",
    "cohesion_weight = 1.0\n",
    "\n",
    "# Update velocities\n",
    "v += S * separation_weight + A * alignment_weight + C * cohesion_weight\n",
    "\n",
    "# Update positions\n",
    "xy += v\n"
   ]
  },
  {
   "cell_type": "code",
   "execution_count": 98,
   "id": "c30c4872-1236-4cec-862f-43b5106fbe30",
   "metadata": {},
   "outputs": [
    {
     "data": {
      "text/plain": [
       "array([[ 0.44741158, -1.44202456],\n",
       "       [ 0.        ,  0.        ],\n",
       "       [-0.08786003,  0.57035192],\n",
       "       [ 0.        ,  0.        ],\n",
       "       [ 0.18482914, -0.90709917],\n",
       "       [ 0.        ,  0.        ],\n",
       "       [ 0.        ,  0.        ],\n",
       "       [ 0.93126407,  0.6167947 ],\n",
       "       [-1.17231738, -2.41396732],\n",
       "       [ 0.73693211, -0.23939003]])"
      ]
     },
     "execution_count": 98,
     "metadata": {},
     "output_type": "execute_result"
    }
   ],
   "source": [
    "A"
   ]
  },
  {
   "cell_type": "code",
   "execution_count": 89,
   "id": "68a77d80-c59a-426f-8e9f-1ac155ea2d5a",
   "metadata": {},
   "outputs": [
    {
     "data": {
      "text/plain": [
       "[<matplotlib.lines.Line2D at 0x7f99c48830d0>]"
      ]
     },
     "execution_count": 89,
     "metadata": {},
     "output_type": "execute_result"
    },
    {
     "data": {
      "image/png": "[encoded data removed]",
      "text/plain": [
       "<Figure size 1400x800 with 1 Axes>"
      ]
     },
     "metadata": {
      "needs_background": "light"
     },
     "output_type": "display_data"
    }
   ],
   "source": [
    "# Now we know the identity of the particles that would repell, align and attract.\n",
    "# So we need to use these indices to update the velocities\n",
    "\n",
    "plt.plot(*xy.T, \"o\")"
   ]
  },
  {
   "cell_type": "code",
   "execution_count": null,
   "id": "04b5031a-8bf2-40d7-9c6f-9036740cca6c",
   "metadata": {},
   "outputs": [],
   "source": []
  },
  {
   "cell_type": "code",
   "execution_count": null,
   "id": "e62f9ae4-5d99-4a0e-867e-f3954d9385d5",
   "metadata": {},
   "outputs": [],
   "source": []
  },
  {
   "cell_type": "code",
   "execution_count": null,
   "id": "18105144-f9d0-4a23-96dc-72a96a993a41",
   "metadata": {},
   "outputs": [],
   "source": []
  },
  {
   "cell_type": "code",
   "execution_count": null,
   "id": "f17f9f8d-ea09-4056-a691-a04bc80665a8",
   "metadata": {},
   "outputs": [],
   "source": []
  }
 ],
 "metadata": {
  "kernelspec": {
   "display_name": "Python 3",
   "language": "python",
   "name": "python3"
  },
  "language_info": {
   "codemirror_mode": {
    "name": "ipython",
    "version": 3
   },
   "file_extension": ".py",
   "mimetype": "text/x-python",
   "name": "python",
   "nbconvert_exporter": "python",
   "pygments_lexer": "ipython3",
   "version": "3.8.5"
  }
 },
 "nbformat": 4,
 "nbformat_minor": 5
}
