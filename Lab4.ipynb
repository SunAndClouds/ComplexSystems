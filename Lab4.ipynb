{
 "cells": [
  {
   "cell_type": "code",
   "execution_count": 10,
   "id": "6e3650ed-7e8f-446a-8489-ea7590768e0a",
   "metadata": {},
   "outputs": [
    {
     "data": {
      "text/plain": [
       "<Figure size 1400x800 with 0 Axes>"
      ]
     },
     "metadata": {},
     "output_type": "display_data"
    }
   ],
   "source": [
    "import numpy as np\n",
    "import matplotlib.pyplot as plt\n",
    "from matplotlib.animation import *\n",
    "from tqdm import tqdm\n",
    "from numba import njit\n",
    "import random\n",
    "from sklearn.metrics.pairwise import cosine_similarity\n",
    "\n",
    "plt.rcParams[\"figure.figsize\"] = [14, 8]\n",
    "plt.rcParams[\"figure.dpi\"] = 100\n",
    "plt.set_cmap(\"binary_r\")"
   ]
  },
  {
   "cell_type": "markdown",
   "id": "1e3c1ce0-cae0-4045-8d2d-3617e538c643",
   "metadata": {},
   "source": [
    "# Boids model\n",
    "Consider a flock of birds. If they are located in a too dense area, then they want to repell each other. \n",
    "At some intermediate distance, for example in a distance where they can see. each other, then birds will get attracted to each other and move in the same direction. In the same time, the flock will also try to cluster to the center of mass. The behvaior can be summarized as:\n",
    "1. Separation\n",
    "2. Alignment \n",
    "3. Cohesion"
   ]
  },
  {
   "cell_type": "code",
   "execution_count": 37,
   "id": "0c6b5cf7-5529-4b5d-bcb8-813595277dbb",
   "metadata": {},
   "outputs": [
    {
     "name": "stderr",
     "output_type": "stream",
     "text": [
      "100%|██████████| 10000/10000 [00:22<00:00, 451.21it/s]\n"
     ]
    }
   ],
   "source": [
    "#np.random.seed(42)\n",
    "\n",
    "# Simulation parameters\n",
    "r1, r2, r3 = 2, 3, 5\n",
    "N = 100  # Number of particles\n",
    "x1, x2 = -10, 10\n",
    "v1, v2 = -1, 1\n",
    "dt = 1e-2\n",
    "rho1, rho2, rho3, rho4 = [0.04, 0.01, 0.05, 0.9]\n",
    "eta = 2 * np.pi / 3  # random factor upper bound (in radians)\n",
    "\n",
    "# Animation constants \n",
    "time_steps = 10000\n",
    "factor = 50\n",
    "frames = time_steps // factor\n",
    "\n",
    "position_history= np.zeros([frames, N, 2])\n",
    "xy = np.random.uniform(x1, x2, [N, 2])  # Particle positions\n",
    "v  = np.random.uniform(v1, v2, [N, 2])  # Particle velocities\n",
    "\n",
    "# Function for computing distances\n",
    "def get_distances(xy):\n",
    "    separation = xy[:, None] - xy[None, :]\n",
    "    pair_wise_distance = np.linalg.norm(separation, axis=-1)\n",
    "    return pair_wise_distance\n",
    "\n",
    "# Function for computing theta1\n",
    "def theta1(xy):\n",
    "    center_of_mass = np.mean(xy, axis=0) \n",
    "    repulsion_vectors = xy - center_of_mass\n",
    "    theta = np.arctan2(repulsion_vectors[:, 1], repulsion_vectors[:, 0])\n",
    "    return theta\n",
    "\n",
    "# Function for computing theta2\n",
    "def theta2(v):\n",
    "    mean_velocity = np.mean(v, axis=0)\n",
    "    theta = np.arctan2(mean_velocity[1], mean_velocity[0])\n",
    "    return theta\n",
    "\n",
    "# Function for computing theta3\n",
    "def theta3(xy):\n",
    "    center_of_mass = np.mean(xy, axis=0) \n",
    "    attraction_vectors = center_of_mass - xy\n",
    "    theta = np.arctan2(attraction_vectors[:, 1], attraction_vectors[:, 0])\n",
    "    return theta\n",
    "\n",
    "\n",
    "f = 0\n",
    "for t in tqdm(range(time_steps)):\n",
    "    if t % factor == 0:\n",
    "        position_history[f] = xy\n",
    "        f += 1\n",
    "        \n",
    "    distance = get_distances(xy)\n",
    "\n",
    "    repelling_indices  = np.logical_and(distance != 0, distance < r1)\n",
    "    alignment_indices  = np.logical_and(distance >= r1, distance < r2)\n",
    "    attracting_indices = np.logical_and(distance >= r2, distance < r3)\n",
    "\n",
    "    theta1_values = theta1(xy)\n",
    "    theta2_value = theta2(v)\n",
    "    theta3_values = theta3(xy)\n",
    "\n",
    "    # Update velocities\n",
    "    for i in range(N):\n",
    "        repelling_angles = theta1_values[repelling_indices[i]]\n",
    "        attracting_angles = theta3_values[attracting_indices[i]]\n",
    "\n",
    "        angle = (\n",
    "            rho1 * np.mean(repelling_angles) if repelling_angles.size > 0 else 0\n",
    "            + rho2 * theta2_value\n",
    "            + rho3 * np.mean(attracting_angles) if attracting_angles.size > 0 else 0\n",
    "            + rho4 * np.random.uniform(-eta, eta)\n",
    "        )\n",
    "\n",
    "        v[i] = [np.cos(angle), np.sin(angle)]\n",
    "\n",
    "    # Update positions\n",
    "    xy += v * dt"
   ]
  },
  {
   "cell_type": "code",
   "execution_count": null,
   "id": "a28a9e8a-eb48-4222-8373-c0645b27eea0",
   "metadata": {},
   "outputs": [],
   "source": [
    "def plot_animation(simulation_data):\n",
    "    fig, ax = plt.subplots(figsize=(10, 10), dpi=100)\n",
    "\n",
    "    def update(frame):\n",
    "        ax.clear()\n",
    "        ax.set_xlim(3*x1, 10*x2)\n",
    "        ax.set_ylim(2*x1, 2*x2)\n",
    "        ax.scatter(simulation_data[frame, :, 0], simulation_data[frame, :, 1])\n",
    "        ax.set_title('Boids Simulation')\n",
    "\n",
    "    anim = FuncAnimation(fig, update, frames=len(simulation_data), repeat=False)\n",
    "    anim.save(\"boids_simulation.gif\", writer=\"pillow\")\n",
    "\n",
    "plot_animation(position_history)"
   ]
  },
  {
   "cell_type": "code",
   "execution_count": null,
   "id": "28be7079-59d1-41f7-aaae-aa431196ffb6",
   "metadata": {},
   "outputs": [],
   "source": []
  }
 ],
 "metadata": {
  "kernelspec": {
   "display_name": "Python 3",
   "language": "python",
   "name": "python3"
  },
  "language_info": {
   "codemirror_mode": {
    "name": "ipython",
    "version": 3
   },
   "file_extension": ".py",
   "mimetype": "text/x-python",
   "name": "python",
   "nbconvert_exporter": "python",
   "pygments_lexer": "ipython3",
   "version": "3.8.5"
  }
 },
 "nbformat": 4,
 "nbformat_minor": 5
}
