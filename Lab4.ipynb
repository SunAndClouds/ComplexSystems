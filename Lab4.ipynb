{
 "cells": [
  {
   "cell_type": "code",
   "execution_count": 202,
   "id": "6e3650ed-7e8f-446a-8489-ea7590768e0a",
   "metadata": {},
   "outputs": [
    {
     "data": {
      "text/plain": [
       "<Figure size 1400x800 with 0 Axes>"
      ]
     },
     "metadata": {},
     "output_type": "display_data"
    }
   ],
   "source": [
    "import numpy as np\n",
    "import matplotlib.pyplot as plt\n",
    "from matplotlib.animation import *\n",
    "from tqdm import tqdm\n",
    "from numba import njit\n",
    "import random\n",
    "from sklearn.metrics.pairwise import cosine_similarity\n",
    "\n",
    "plt.rcParams[\"figure.figsize\"] = [14, 8]\n",
    "plt.rcParams[\"figure.dpi\"] = 100\n",
    "plt.set_cmap(\"binary_r\")"
   ]
  },
  {
   "cell_type": "markdown",
   "id": "1e3c1ce0-cae0-4045-8d2d-3617e538c643",
   "metadata": {},
   "source": [
    "# Boids model\n",
    "Consider a flock of birds. If they are located in a too dense area, then they want to repell each other. \n",
    "At some intermediate distance, for example in a distance where they can see. each other, then birds will get attracted to each other and move in the same direction. In the same time, the flock will also try to cluster to the center of mass. The behvaior can be summarized as:\n",
    "1. Separation\n",
    "2. Alignment \n",
    "3. Cohesion"
   ]
  },
  {
   "cell_type": "code",
   "execution_count": 211,
   "id": "f76580b9-db00-4837-9f0c-ed72c322d54e",
   "metadata": {
    "tags": []
   },
   "outputs": [
    {
     "data": {
      "text/plain": [
       "array([[0.60490806],\n",
       "       [2.37222684],\n",
       "       [2.07498342],\n",
       "       [0.3601793 ],\n",
       "       [1.97287662]])"
      ]
     },
     "execution_count": 211,
     "metadata": {},
     "output_type": "execute_result"
    }
   ],
   "source": [
    "np.random.seed(42)\n",
    "\n",
    "r1, r2, r3 = 2, 4, 5\n",
    "N = 5 # Number of particles\n",
    "x1, x2 = -5, 5\n",
    "v1, v2 = -1, 1\n",
    "dt = 1e-1\n",
    "xy = np.random.uniform(x1, x2, [N, 2]) \n",
    "v  = np.random.uniform(v1, v2, [N, 2])\n",
    "\n",
    "def get_euclidian_distance(positions): # (N, 2) -> (N, N, 2) -> (N, N)\n",
    "    separation = positions[:,None] - positions[None]\n",
    "    pair_wise_distance = np.linalg.norm(separation, axis=-1, ord=2)\n",
    "    return pair_wise_distance # Adjacency matrix for an weighted undirected graph where each edge correspond to a distance\n",
    "\n",
    "\n",
    "def theta1(xy, r):\n",
    "    \"\"\"\n",
    "    This function should compute the vectors that point from the common center of pass to the induvidual particle posiiton. \n",
    "    Using these outward pointing vectors, it is possible to compute an angle of each particles w.r.t. the center of mass vector. \n",
    "    This is done by computing the cosine similarity and then using the arccos.\n",
    "    \"\"\"\n",
    "    # The coordinate of the center of mass for the particles is essentially the average \n",
    "    # if the mass of each particles are the same.\n",
    "    center_of_mass = xy.mean(0) \n",
    "    repulsion_vectors = xy - center_of_mass # This vector will be pointing from the center of mass.\n",
    "    cos_theta = cosine_similarity(repulsion_vectors, center_of_mass[None])\n",
    "    theta = np.arccos(cos_theta)\n",
    "    return theta # angles in radians\n",
    "\n",
    "\n",
    "def velocity_of_center(v): # Computes the velocity of the center of mass by first computing the average velocity.\n",
    "    velocity_cm = v.mean(0)\n",
    "#    velocity_magnitude = np.linalg.norm(velocity_cm)\n",
    "#    unit_velocity_cm = velocity_cm / velocity_magnitude\n",
    "#    directional_velocity = unit_velocity_cm if velocity_magnitude != 0 else velocity_cm\n",
    "    return velocity_cm #directional_velocity\n",
    "\n",
    "def vicsek_polarization(v):\n",
    "    unit_velocity_vectors = v / (np.linalg.norm(v, axis=-1, keepdims=True) + 1e-9)\n",
    "    angles = np.arctan2(unit_velocity_vectors[..., 1], unit_velocity_vectors[..., 0])  # Compute angles from unit vectors\n",
    "    \n",
    "    neighbor_angles = angles[:, None] * alignment_indices  # Extract angles for neighbors in zone 2\n",
    "    avg_cos = np.sum(np.cos(neighbor_angles), axis=1) / (np.sum(alignment_indices, axis=1) + 1e-9)\n",
    "    avg_sin = np.sum(np.sin(neighbor_angles), axis=1) / (np.sum(alignment_indices, axis=1) + 1e-9)\n",
    "    \n",
    "    avg_angle = np.arctan2(avg_sin, avg_cos)  # Compute the average angle\n",
    "    avg_direction_vector = np.stack((np.cos(avg_angle), np.sin(avg_angle)), axis=-1)  # Convert average angle to unit vector\n",
    "\n",
    "    return avg_direction_vector\n",
    "\n",
    "\n",
    "def alignment_vectors(v, distance, alignment_indices):\n",
    "    avg_direction_vector = vicsek_polarization(v, alignment_indices)\n",
    "    A = avg_direction_vector - v\n",
    "    return A\n",
    "\n",
    "\n",
    "def cohesion_vectors(xy, distance, attracting_indices):\n",
    "    attracting_neighbors = xy[:, None] * attracting_indices[..., None]\n",
    "    avg_neighbor_position = np.sum(attracting_neighbors, axis=1) / (np.sum(attracting_indices, axis=1)[:, None] + 1e-9)\n",
    "    C = avg_neighbor_position - xy\n",
    "    return C\n",
    "\n",
    "distance = get_euclidian_distance(xy)\n",
    "repelling_indices  = (distance < r1) * (distance != 0)\n",
    "alignment_indices  = (distance > r1) * (distance < r2)\n",
    "attracting_indices = (distance > r2) * (distance < r3)\n",
    "\n",
    "#time_steps = 1000\n",
    "#frames = 100\n",
    "#position_history= np.zeros([frames, N, 2])\n",
    "#\n",
    "#t = 0\n",
    "#for i in range(time_steps):\n",
    "#    if i % 10 == 0:\n",
    "#        position_history[t] = xy\n",
    "#        t += 1\n",
    "#        \n",
    "#    repulsion_vec = repulsion_vectors(xy)\n",
    "#    unit_repulsion_vec = repulsion_vec / np.linalg.norm(repulsion_vec, axis=-1, keepdims=True)\n",
    "#    xy += unit_repulsion_vec * dt\n",
    "    \n",
    "#velocity_of_center(v)\n",
    "\n"
   ]
  },
  {
   "cell_type": "code",
   "execution_count": 195,
   "id": "a28a9e8a-eb48-4222-8373-c0645b27eea0",
   "metadata": {},
   "outputs": [
    {
     "data": {
      "image/png": "[encoded data removed]",
      "text/plain": [
       "<Figure size 1000x1000 with 1 Axes>"
      ]
     },
     "metadata": {
      "needs_background": "light"
     },
     "output_type": "display_data"
    }
   ],
   "source": [
    "def plot_animation(simulation_data):\n",
    "    fig, ax = plt.subplots(figsize=(10, 10), dpi=100)\n",
    "\n",
    "    def update(frame):\n",
    "        ax.clear()\n",
    "        ax.set_xlim(x1, x2)\n",
    "        ax.set_ylim(x1, x2)\n",
    "        ax.scatter(simulation_data[frame, :, 0], simulation_data[frame, :, 1])\n",
    "        ax.set_title('Boids Simulation')\n",
    "\n",
    "    anim = FuncAnimation(fig, update, frames=len(simulation_data), repeat=False)\n",
    "    anim.save(\"boids_simulation.gif\", writer=\"pillow\")\n",
    "\n",
    "plot_animation(position_history)"
   ]
  },
  {
   "cell_type": "code",
   "execution_count": null,
   "id": "04b5031a-8bf2-40d7-9c6f-9036740cca6c",
   "metadata": {},
   "outputs": [],
   "source": []
  },
  {
   "cell_type": "code",
   "execution_count": null,
   "id": "e62f9ae4-5d99-4a0e-867e-f3954d9385d5",
   "metadata": {},
   "outputs": [],
   "source": []
  },
  {
   "cell_type": "code",
   "execution_count": null,
   "id": "18105144-f9d0-4a23-96dc-72a96a993a41",
   "metadata": {},
   "outputs": [],
   "source": []
  },
  {
   "cell_type": "code",
   "execution_count": null,
   "id": "f17f9f8d-ea09-4056-a691-a04bc80665a8",
   "metadata": {},
   "outputs": [],
   "source": []
  }
 ],
 "metadata": {
  "kernelspec": {
   "display_name": "Python 3",
   "language": "python",
   "name": "python3"
  },
  "language_info": {
   "codemirror_mode": {
    "name": "ipython",
    "version": 3
   },
   "file_extension": ".py",
   "mimetype": "text/x-python",
   "name": "python",
   "nbconvert_exporter": "python",
   "pygments_lexer": "ipython3",
   "version": "3.8.5"
  }
 },
 "nbformat": 4,
 "nbformat_minor": 5
}
