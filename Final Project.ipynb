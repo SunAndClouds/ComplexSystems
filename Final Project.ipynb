{
 "cells": [
  {
   "cell_type": "markdown",
   "id": "06472e25-c84e-41a1-ad1a-e2053cebb7ab",
   "metadata": {},
   "source": [
    "This notebook implements the Lattice Boltzmann Method (LBM) for fluid flow passing a cylindrical obstacle."
   ]
  },
  {
   "cell_type": "markdown",
   "id": "6587e52c-fd18-4376-b081-35437870a963",
   "metadata": {},
   "source": [
    "# LBM Cookbook\n",
    "\n",
    "1. Define some constants such as the Reynolds number (Re), inital horizontal inflow velocity ($u_0$) and number of simulation time steps. \n",
    "\n",
    "2. Define the size fo the domain and use that to define the central indices of the cylinder. Use the size of the doamin to obtain a mesh and create a boolean mask that models the cylindrical obstacle.\n",
    "\n",
    "3. Define the relative directions of the discrete lattice velocities, call this for lattice_config. This should be an array that consist of (-1,0,1). Note the order of the coordinates, it should reflect the D2Q9 diagram in the report.\n",
    "\n",
    "4. Based on the lattice configurations, define two 1D arrays with 9 elements each with indices that correspond to the discrete lattice velocities and the corresponding reflected version. Note the order of the indices, also the center lattice should not be reflected. The purporse is to handle how the local particle should be updated after collision.\n",
    "\n",
    "5. Define the lattice weights as a 1D array, the numerical values should follow the ones defined in the report. Note that the order must be consistent with the array in step 3.\n",
    "\n",
    "6. Define a set of 1D arrays with three components that contains the indices for the velocity components right, up, left, down, pure horizontal, and pure vertical. These indices will then be used to update the previous velocities in the specified flow direction. The arrays should follow some specific arrangements according to the D2Q9 scheme. \n",
    "\n",
    "7. Use the expression for Reynolds number and the predefined numerical values for Re, L and u0 to determine the the dynamic viscosity $\\mu$. \n",
    "\n",
    "8. Compute the unitless relaxation time using the formula from the report by setting $\\rho = \\Delta t = 1$.\n",
    "\n",
    "9. Initialize the horizontal flow velocity to $u_0$ with no vertical component.\n",
    "\n",
    "\n",
    "10. Define a function that takes the initial velocity vector field as well as a homogeneous density scalar field and returns the equilibrium lattice velocities at each point. This array should have dimension (Nx, Ny, 9).\n",
    "\n",
    "11. Define a function that takes the equilibrium lattice velocities, lattice configuration and the density to compute the macroscopic velocity field. The result should be an array with dimension (Nx, Ny, 2).\n",
    "\n",
    "12. Define a function that takes care of the outflow boudnary condition. This can be done by setting the outflow velocity at the last column equal to the velocity at the second to last column.\n",
    "\n",
    "\n",
    "13. Define a function that takes care of the inflow boundary condition for the velocity. This is done by copying the values of the background flow at the first column excluding the two corners which must be modeled with another rule.\n",
    "\n",
    "14. Handle the density at the inflow, this can be done by using: \n",
    "\\begin{equation}\n",
    "    \\rho = \\frac{c}{c - u_x}\\left[\n",
    "    f_0 + f_2 + f_4 + 2(f_3 + f_6 + f_7)\n",
    "    \\right]\n",
    "\\end{equation}\n",
    "with the unitless velocity $c=1$.\n",
    "\n",
    "\n",
    "15. Define a function that handles the BGK collision. \n",
    "\n",
    "16. Handle the inflow lattice velocities.\n",
    "\n",
    "17. Define a function that handles the bounce-back boundary condition.\n",
    "\n",
    "18. Perform the streaming on the lattice velocities after collision.\n",
    "\n",
    "19. Putting everything together in a function that updates the lattice velocities."
   ]
  },
  {
   "cell_type": "code",
   "execution_count": 2,
   "id": "b234683f-10f0-4e12-9a41-da02d3b571bc",
   "metadata": {},
   "outputs": [],
   "source": [
    "!pip install cmasher -q\n",
    "import matplotlib.pyplot as plt\n",
    "import cmasher as cmr\n",
    "from tqdm import tqdm\n",
    "import numpy as np \n",
    "from numba import njit\n",
    "from matplotlib.animation import *\n",
    "\n",
    "plt.rcParams[\"figure.figsize\"] = [15, 7]\n",
    "plt.rcParams[\"figure.dpi\"] = 150"
   ]
  },
  {
   "cell_type": "markdown",
   "id": "6ad6d6ed-997b-4493-90c2-be721b58674e",
   "metadata": {},
   "source": [
    "## Initialization"
   ]
  },
  {
   "cell_type": "code",
   "execution_count": 83,
   "id": "f222cdce-5689-4c37-9d72-1abb3d7da164",
   "metadata": {},
   "outputs": [
    {
     "data": {
      "image/png": "[encoded data removed]",
      "text/plain": [
       "<Figure size 2250x1050 with 1 Axes>"
      ]
     },
     "metadata": {},
     "output_type": "display_data"
    }
   ],
   "source": [
    "## Unitless physical constants\n",
    "\n",
    "Re = 80 # Reynold's number\n",
    "mass_density = 1 # Unitless mass density\n",
    "inflow_speed = 0.05 # Initial horizontal inflow < 1, this is assumed to be constant throughout the simulation\n",
    "dt = 1 # Change in time\n",
    "simulation_time_steps = 10000 # Total number of steps of the simulation\n",
    "record_steps = 100 # Record every 100 simulation steps \n",
    "Nx, Ny = (300, 80) # Size of the domain\n",
    "R = Nx // 20 # Radius of the cylinder, this value will be used as the characteristic length\n",
    "mu = mass_density * inflow_speed * R / Re # Uniteless dynamic viscousity\n",
    "\n",
    "\n",
    "# The D2Q9 lattice configuration\n",
    "\"\"\"\n",
    " 6  2  5\n",
    "  \\ | /\n",
    "3 - 0 - 1 \n",
    "  / | \\\n",
    " 7  4  8\n",
    "\"\"\"\n",
    "\n",
    "lattice_config = np.array([\n",
    "    [0, 1, 0, -1, 0, 1, -1, -1, 1],\n",
    "    [0, 0, 1, 0, -1, 1, 1, -1, -1],\n",
    "])\n",
    "\n",
    "lattice_indices = np.array([0, 1, 2, 3, 4, 5, 6, 7, 8])\n",
    "reflected_lattice_indices = np.array([0, 3, 4, 1, 2, 7, 8, 5, 6])\n",
    "lattice_weights = np.array([\n",
    "    4/9, # center\n",
    "    1/9, 1/9, 1/9, 1/9, # sides\n",
    "    1/36, 1/36, 1/36, 1/36, # diagonals\n",
    "])\n",
    "\n",
    "# These arrays will determine the flow directions\n",
    "east_indices = np.array([5, 1, 8])\n",
    "north_indices = np.array([6, 2, 5])\n",
    "west_indices = np.array([7, 3, 6])\n",
    "south_indices = np.array([7, 4, 8])\n",
    "vertical_indices = np.array([2, 0, 4])\n",
    "horizontal_indices = np.array([3, 0, 1])\n",
    "\n",
    "\n",
    "center_of_mass = (Nx//10, Ny//2)\n",
    "x, y = np.arange(Nx), np.arange(Ny)\n",
    "X, Y = np.meshgrid(x, y, indexing=\"ij\")\n",
    "# This is a boolean array with True when its considered to be an obstacle and False when it is fluid\n",
    "cylinder = np.sqrt((X - center_of_mass[0])**2 + (Y - center_of_mass[1])**2) < R\n",
    "\n",
    "# Initializing the velocity field such that \n",
    "# there is a constant horizontal flow form left to right \n",
    "velocity_field = np.zeros([Nx, Ny, 2]) \n",
    "velocity_field[..., 0] = inflow_speed\n",
    "background_flow = velocity_field\n",
    "\n",
    "plt.contourf(X, Y, cylinder)\n",
    "plt.show()"
   ]
  },
  {
   "cell_type": "code",
   "execution_count": 84,
   "id": "32c689c6-0e14-4f52-8df6-0d3dd6439008",
   "metadata": {},
   "outputs": [
    {
     "data": {
      "text/plain": [
       "((300, 80, 9), (300, 80, 1))"
      ]
     },
     "execution_count": 84,
     "metadata": {},
     "output_type": "execute_result"
    }
   ],
   "source": [
    "def rho(lattice_matrix): # (Nx, Ny, 9) -> (Nx, Ny, 1)\n",
    "    return lattice_matrix.sum(-1, keepdims=True)\n",
    "\n",
    "def f_eq(velocity_field, lattice_config, density_field): # (Nx, Ny, 2), (2, 9), (Nx, Ny, 1) -> (Nx, Ny, 9)\n",
    "    projected_velocity_field = velocity_field @ lattice_config\n",
    "    speed_field = np.linalg.norm(velocity_field, ord=2, axis=-1, keepdims=True)\n",
    "    equilibrium_lattice_velocities = density_field * lattice_weights[None, None] * (\n",
    "        1 + 3 * projected_velocity_field + 9/2 * projected_velocity_field**2 - 3/2 * speed_field**2\n",
    "    ) \n",
    "    return equilibrium_lattice_velocities\n",
    "\n",
    "initial_density = np.ones([Nx, Ny, 1])\n",
    "equilibrium_lattice_velocities = f_eq(velocity_field, lattice_config, initial_density)\n",
    "density = rho(equilibrium_lattice_velocities)\n",
    "\n",
    "equilibrium_lattice_velocities.shape, density.shape"
   ]
  },
  {
   "cell_type": "code",
   "execution_count": 144,
   "id": "f94eaede-280b-4faa-9c5b-99b248dd602b",
   "metadata": {},
   "outputs": [
    {
     "data": {
      "text/plain": [
       "(300, 80, 2)"
      ]
     },
     "execution_count": 144,
     "metadata": {},
     "output_type": "execute_result"
    }
   ],
   "source": [
    "# Using the equilibrium lattice velocities to compute the velocity field\n",
    "def get_velocity_field(equilibirum_lattice_velocities, lattice_config, density): # (Nx, Ny, 9) x (2, 9) / (Nx, Ny, 1) -> (Nx, Ny, 2)\n",
    "    return equilibrium_lattice_velocities @ lattice_config.T / density\n",
    "\n",
    "velocity_field = get_velocity_field(equilibrium_lattice_velocities, lattice_config, density)\n",
    "velocity_field.shape"
   ]
  },
  {
   "cell_type": "code",
   "execution_count": 148,
   "id": "aadd5b1d-fceb-48df-88c7-b713c2c32760",
   "metadata": {},
   "outputs": [
    {
     "data": {
      "text/plain": [
       "(300, 80, 9)"
      ]
     },
     "execution_count": 148,
     "metadata": {},
     "output_type": "execute_result"
    }
   ],
   "source": [
    "# Using the equilibrim lattice velocities to compute the outflow velocity bounary condition\n",
    "def outflow_velocity(equilibrium_lattice_velocities):\n",
    "    equilibrium_lattice_velocities[-1, :, west_indices] = equilibrium_lattice_velocities[-2, :, west_indices]\n",
    "    return equilibrium_lattice_velocities # equilibrium lattice velocities but the velocity boundary condition is considered\n",
    "\n",
    "equilibrium_lattice_velocities = outflow_velocity(equilibrium_lattice_velocities)\n",
    "equilibrium_lattice_velocities.shape"
   ]
  },
  {
   "cell_type": "code",
   "execution_count": 147,
   "id": "5b3294f0-fad6-40b0-aadd-aae2f300e67b",
   "metadata": {},
   "outputs": [
    {
     "data": {
      "text/plain": [
       "((300, 80, 2), (300, 80, 1))"
      ]
     },
     "execution_count": 147,
     "metadata": {},
     "output_type": "execute_result"
    }
   ],
   "source": [
    "def inflow_velocity(velocity_field, background_flow): \n",
    "    velocity_field[0, 1:-1] = background_flow[0, 1:-1]\n",
    "    return velocity_field\n",
    "\n",
    "def inflow_density(equilibrium_lattice_velocities, velocity_field, density):\n",
    "    vertical_density = rho(equilibrium_lattice_velocities[0, :, vertical_indices].T)\n",
    "    west_density = rho(equilibrium_lattice_velocities[0, :, west_indices].T)\n",
    "    # Implementing equation (16) from the report with c = 1\n",
    "    # The indices are choosen in a way that it updates the horizontal component of the first column.\n",
    "    density[0] = (vertical_density + 2 * west_density) / (1 - velocity_field[0, :, 0:1])\n",
    "    return density\n",
    "\n",
    "velocity_field = inflow_velocity(velocity_field, background_flow) \n",
    "density = inflow_density(equilibrium_lattice_velocities, velocity_field, density)\n",
    "\n",
    "velocity_field.shape, density.shape"
   ]
  },
  {
   "cell_type": "code",
   "execution_count": 99,
   "id": "d280c299-55d3-4f70-9228-b2ed17c6e53e",
   "metadata": {},
   "outputs": [
    {
     "data": {
      "text/plain": [
       "(300, 80, 9)"
      ]
     },
     "execution_count": 99,
     "metadata": {},
     "output_type": "execute_result"
    }
   ],
   "source": [
    "def BGK(lattice_velocities, equilibrium_lattice_velocities):\n",
    "    relaxation_time = 1 / (3 * mu + 0.5)\n",
    "    post_collision_lattice_velocities = lattice_velocities \\\n",
    "    - (lattice_velocities - equilibrium_lattice_velocities) / relaxation_time\n",
    "    return post_collision_lattice_velocities\n",
    "\n",
    "lattice_velocities = equilibrium_lattice_velocities\n",
    "equilibrium_lattice_velocities = f_eq(velocity_field, lattice_config, density)\n",
    "\n",
    "post_collision_lattice_velocities = BGK(lattice_velocities, equilibrium_lattice_velocities)\n",
    "post_collision_lattice_velocities.shape"
   ]
  },
  {
   "cell_type": "code",
   "execution_count": 112,
   "id": "5cad3c42-ec62-4932-be6e-95bcbd38f88c",
   "metadata": {},
   "outputs": [
    {
     "data": {
      "text/plain": [
       "(300, 80, 9)"
      ]
     },
     "execution_count": 112,
     "metadata": {},
     "output_type": "execute_result"
    }
   ],
   "source": [
    "# This functon ensures that there is always a flow of fluid \n",
    "# at the very left boundary that moves to the right. \n",
    "# The values that is assigned is the equilibrium lattice velocities.\n",
    "# Note that this must be done AFTER the velocity field is updated, \n",
    "# otherwise we would have more fluid than allowed in the domain.\n",
    "def lattice_inflow_velocity(lattice_velocities, equilibrium_lattice_velocities):\n",
    "    lattice_velocities[0, :, east_indices] = equilibrium_lattice_velocities[0, :, east_indices]\n",
    "    return lattice_velocities\n",
    "\n",
    "lattice_velocities = lattice_inflow_velocity(lattice_velocities, equilibrium_lattice_velocities)\n",
    "lattice_velocities.shape"
   ]
  },
  {
   "cell_type": "code",
   "execution_count": 142,
   "id": "4971df34-fa79-4bb8-a8ee-8d9b3ad80b8c",
   "metadata": {},
   "outputs": [
    {
     "data": {
      "text/plain": [
       "(300, 80, 9)"
      ]
     },
     "execution_count": 142,
     "metadata": {},
     "output_type": "execute_result"
    }
   ],
   "source": [
    "def bounce_back_boundary_condition(\n",
    "    lattice_velocities, \n",
    "    post_collision_lattice_velocities, \n",
    "    obstacle, lattice_indices, \n",
    "    reflected_lattice_indices\n",
    "):\n",
    "    for i, j in zip(lattice_indices, reflected_lattice_indices):\n",
    "        # Assigning the new lattice velocities that correspond to indices 'i' with \n",
    "        # the reflected lattice velocities that correspond to indices 'j'. \n",
    "        # The values are then conditioned by the obstacle (boolean) mask.\n",
    "        post_collision_lattice_velocities[obstacle, i] = lattice_velocities[obstacle, j]\n",
    "        \n",
    "    return post_collision_lattice_velocities\n",
    "\n",
    "post_collision_lattice_velocities = bounce_back_boundary_condition(\n",
    "    lattice_velocities, \n",
    "    post_collision_lattice_velocities, \n",
    "    cylinder, \n",
    "    lattice_indices, \n",
    "    reflected_lattice_indices\n",
    ")\n",
    "\n",
    "post_collision_lattice_velocities.shape"
   ]
  },
  {
   "cell_type": "code",
   "execution_count": 161,
   "id": "d45a7561-a36d-4dad-b1ba-3262766da0de",
   "metadata": {},
   "outputs": [
    {
     "data": {
      "text/plain": [
       "(300, 80, 9)"
      ]
     },
     "execution_count": 161,
     "metadata": {},
     "output_type": "execute_result"
    }
   ],
   "source": [
    "def streaming(post_collision_lattice_velocities, lattice_config):\n",
    "    streamed_lattice_velocities = post_collision_lattice_velocities\n",
    "    for i, direction in enumerate(lattice_config.T):   \n",
    "        horizontal_index, vertical_index = direction\n",
    "        # Shifting the post collision lattice velocities in the horizontal direction (axis=0) \n",
    "        # according to the relative indices defined in the lattice_config array \n",
    "        # -1 = left, 0 = stationary, 1 = right\n",
    "        horizontal_shift = np.roll(post_collision_lattice_velocities[..., i], horizontal_index, axis=0)\n",
    "\n",
    "        # Simultaneously shifting in the vertical direction (axis=1).\n",
    "        # Storing the result in a new lattice configuration that have been 'streamed'.\n",
    "        # This is then repeated for every i:th lattice in the D2Q9 lattice configuration.\n",
    "        streamed_lattice_velocities[..., i] = np.roll(horizontal_shift, vertical_index, axis=1)\n",
    "        \n",
    "    return streamed_lattice_velocities\n",
    "    \n",
    "lattice_velocities = streaming(post_collision_lattice_velocities, lattice_config) # Updated lattice velocities\n",
    "lattice_velocities.shape"
   ]
  },
  {
   "cell_type": "code",
   "execution_count": 160,
   "id": "731ebebd-c845-46e8-a80a-f8777b25d74b",
   "metadata": {},
   "outputs": [
    {
     "data": {
      "text/plain": [
       "(300, 80, 9)"
      ]
     },
     "execution_count": 160,
     "metadata": {},
     "output_type": "execute_result"
    }
   ],
   "source": [
    "initial_density = np.ones([Nx, Ny, 1])\n",
    "initial_lattice_velocities = f_eq(background_flow, lattice_config, initial_density)\n",
    "\n",
    "velocity_field = np.zeros([Nx, Ny, 2]) \n",
    "velocity_field[..., 0] = inflow_speed\n",
    "background_flow = velocity_field\n",
    "\n",
    "def update_lattice_velocities(lattice_velocities, velocity_field):\n",
    "    # Compute the density\n",
    "    density = rho(lattice_velocities)\n",
    "    \n",
    "    # Handling the outflow boundary condition\n",
    "    lattice_velocities = outflow_velocity(lattice_velocities)\n",
    "    \n",
    "    # Handing the inflow boundary condition\n",
    "    inflow_velocity_field = inflow_velocity(velocity_field, background_flow)\n",
    "    density = inflow_density(lattice_velocities, inflow_velocity_field, density)\n",
    "    \n",
    "    # Computing the equilibrium lattice velocities \n",
    "    equilibrium_lattice_velocities = f_eq(inflow_velocity_field, lattice_config, density)\n",
    "    \n",
    "    # Making sure that fluid continously enters the domain\n",
    "    lattice_velocities = lattice_inflow_velocity(lattice_velocities, equilibrium_lattice_velocities)\n",
    "    \n",
    "    # Handling the collisions\n",
    "    # Collision between particles\n",
    "    post_collision_lattice_velocities = BGK(lattice_velocities, equilibrium_lattice_velocities) \n",
    "    # Collision with obstacle and top/bottom side of domain\n",
    "    post_collision_lattice_velocities = bounce_back_boundary_condition(\n",
    "        lattice_velocities, # using the latest updated lattice velocities\n",
    "        post_collision_lattice_velocities, # handling the collision with obstacle after collision between particles\n",
    "        cylinder, # boolean mask determined by type of obstacle\n",
    "        lattice_indices, \n",
    "        reflected_lattice_indices # determined by the lattice configuration\n",
    "    )\n",
    "    \n",
    "    # Streaming\n",
    "    updated_lattice_velocities = streaming(post_collision_lattice_velocities, lattice_config)\n",
    "\n",
    "    return updated_lattice_velocities\n",
    "\n",
    "update_lattice_velocities(initial_lattice_velocities, velocity_field).shape"
   ]
  },
  {
   "cell_type": "code",
   "execution_count": null,
   "id": "5f9ed34a-dc86-408b-bee0-834984f8915f",
   "metadata": {},
   "outputs": [],
   "source": []
  },
  {
   "cell_type": "code",
   "execution_count": null,
   "id": "c8bf2779-e0b2-4465-9286-4cd46c8e3379",
   "metadata": {},
   "outputs": [],
   "source": []
  }
 ],
 "metadata": {
  "kernelspec": {
   "display_name": "Python 3",
   "language": "python",
   "name": "python3"
  },
  "language_info": {
   "codemirror_mode": {
    "name": "ipython",
    "version": 3
   },
   "file_extension": ".py",
   "mimetype": "text/x-python",
   "name": "python",
   "nbconvert_exporter": "python",
   "pygments_lexer": "ipython3",
   "version": "3.8.5"
  }
 },
 "nbformat": 4,
 "nbformat_minor": 5
}
